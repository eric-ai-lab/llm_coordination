{
 "cells": [
  {
   "cell_type": "code",
   "execution_count": 1,
   "metadata": {},
   "outputs": [
    {
     "name": "stdout",
     "output_type": "stream",
     "text": [
      "                            OLS Regression Results                            \n",
      "==============================================================================\n",
      "Dep. Variable:                      c   R-squared:                       0.977\n",
      "Model:                            OLS   Adj. R-squared:                  0.953\n",
      "Method:                 Least Squares   F-statistic:                     41.67\n",
      "Date:                Thu, 21 Mar 2024   Prob (F-statistic):             0.0234\n",
      "Time:                        14:26:19   Log-Likelihood:                -3.5269\n",
      "No. Observations:                   5   AIC:                             13.05\n",
      "Df Residuals:                       2   BIC:                             11.88\n",
      "Df Model:                           2                                         \n",
      "Covariance Type:            nonrobust                                         \n",
      "==============================================================================\n",
      "                 coef    std err          t      P>|t|      [0.025      0.975]\n",
      "------------------------------------------------------------------------------\n",
      "const         -2.6000      1.273     -2.043      0.178      -8.076       2.876\n",
      "a              0.6000      1.010      0.594      0.613      -3.745       4.945\n",
      "b              2.0000      1.225      1.633      0.244      -3.270       7.270\n",
      "==============================================================================\n",
      "Omnibus:                          nan   Durbin-Watson:                   2.367\n",
      "Prob(Omnibus):                    nan   Jarque-Bera (JB):                0.361\n",
      "Skew:                          -0.408   Prob(JB):                        0.835\n",
      "Kurtosis:                       1.967   Cond. No.                         26.3\n",
      "==============================================================================\n",
      "\n",
      "Notes:\n",
      "[1] Standard Errors assume that the covariance matrix of the errors is correctly specified.\n"
     ]
    },
    {
     "name": "stderr",
     "output_type": "stream",
     "text": [
      "/home/saaket/.conda/envs/llm_coordination/lib/python3.9/site-packages/statsmodels/stats/stattools.py:74: ValueWarning: omni_normtest is not valid with less than 8 observations; 5 samples were given.\n",
      "  warn(\"omni_normtest is not valid with less than 8 observations; %i \"\n"
     ]
    }
   ],
   "source": [
    "import pandas as pd\n",
    "import statsmodels.api as sm\n",
    "\n",
    "# Sample dataset\n",
    "# Replace this with your actual data\n",
    "data = {\n",
    "    'a': [1, 2, 3, 4, 5],\n",
    "    'b': [2, 2, 3, 4, 5],\n",
    "    'c': [2, 3, 5, 7, 11]\n",
    "}\n",
    "df = pd.DataFrame(data)\n",
    "\n",
    "# Independent variables\n",
    "X = df[['a', 'b']]\n",
    "# Add a constant to the model (intercept)\n",
    "X = sm.add_constant(X)\n",
    "\n",
    "# Dependent variable\n",
    "y = df['c']\n",
    "\n",
    "# Fit the model\n",
    "model = sm.OLS(y, X).fit()\n",
    "\n",
    "# Print the summary of the model\n",
    "print(model.summary())"
   ]
  },
  {
   "cell_type": "code",
   "execution_count": null,
   "metadata": {},
   "outputs": [],
   "source": []
  }
 ],
 "metadata": {
  "kernelspec": {
   "display_name": "llm_coordination",
   "language": "python",
   "name": "python3"
  },
  "language_info": {
   "codemirror_mode": {
    "name": "ipython",
    "version": 3
   },
   "file_extension": ".py",
   "mimetype": "text/x-python",
   "name": "python",
   "nbconvert_exporter": "python",
   "pygments_lexer": "ipython3",
   "version": "3.9.18"
  }
 },
 "nbformat": 4,
 "nbformat_minor": 2
}
