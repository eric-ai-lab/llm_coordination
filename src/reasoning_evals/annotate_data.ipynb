{
 "cells": [
  {
   "cell_type": "code",
   "execution_count": 6,
   "metadata": {},
   "outputs": [],
   "source": [
    "import pandas as pd \n",
    "from functools import partial \n",
    "import ipywidgets as widgets\n",
    "from IPython.display import display, clear_output\n",
    "df = pd.read_csv('data/single_turn_trials_march_21.csv')"
   ]
  },
  {
   "cell_type": "code",
   "execution_count": 7,
   "metadata": {},
   "outputs": [],
   "source": [
    "df = df[['EC Question', 'EC Answer', 'EC Answer Ordinal', 'JP Question', 'JP Answer', 'JP Answer Ordinal', 'TOM Question', 'TOM Answer', 'TOM Answer Ordinal', 'Game Description', 'Scenario']]"
   ]
  },
  {
   "cell_type": "code",
   "execution_count": 3,
   "metadata": {},
   "outputs": [],
   "source": [
    "df = df[['EC Question', 'EC Answer', 'EC Answer Ordinal', 'JP Question', 'JP Answer', 'JP Answer Ordinal', 'TOM Question', 'TOM Answer', 'TOM Answer Ordinal', 'Game Description', 'Scenario']].fillna('')"
   ]
  },
  {
   "cell_type": "code",
   "execution_count": 17,
   "metadata": {},
   "outputs": [
    {
     "data": {
      "application/vnd.jupyter.widget-view+json": {
       "model_id": "04848e31256b4c05ac8b0536b72ea3b3",
       "version_major": 2,
       "version_minor": 0
      },
      "text/plain": [
       "VBox(children=(Button(description='Back to Overview', style=ButtonStyle()), VBox(children=(HBox(children=(VBox…"
      ]
     },
     "metadata": {},
     "output_type": "display_data"
    }
   ],
   "source": [
    "# Generate widgets for all fields, treating ordinals as strings\n",
    "text_area_widgets = {field: widgets.Textarea() for field in df.columns}\n",
    "\n",
    "# Load current record into widgets\n",
    "def load_record_to_widgets(index):\n",
    "    record = df.iloc[index]\n",
    "    for field, widget in text_area_widgets.items():\n",
    "        widget.value = str(record[field])\n",
    "\n",
    "# Update DataFrame from widgets\n",
    "def update_record_from_widgets(index):\n",
    "    for field, widget in text_area_widgets.items():\n",
    "        df.at[index, field] = widget.value\n",
    "\n",
    "current_index = 0\n",
    "\n",
    "# Define a custom layout for the text areas to increase width and height\n",
    "custom_layout = widgets.Layout(height='500px', width='100%')  # This sets the width to 100% of the parent container\n",
    "\n",
    "# Apply the custom layout to all text area widgets\n",
    "for widget in text_area_widgets.values():\n",
    "    widget.layout = custom_layout\n",
    "\n",
    "# For the horizontal box that contains the widgets, we also need to make sure it spans the full width\n",
    "hbox_layout = widgets.Layout(width='100%')\n",
    "\n",
    "# Update the display function to use this new hbox_layout\n",
    "def display_edit_view(question_type=None):\n",
    "    clear_output(wait=True)\n",
    "    \n",
    "    # Include navigation buttons in the edit view\n",
    "    navigation_box = widgets.HBox([previous_button, next_button])\n",
    "\n",
    "    if question_type:  # For Question, Answer & Answer Ordinal\n",
    "        question_field = f\"{question_type} Question\"\n",
    "        answer_field = f\"{question_type} Answer\"\n",
    "        ordinal_field = f\"{question_type} Answer Ordinal\"\n",
    "        edit_box = widgets.VBox([\n",
    "            widgets.HBox([\n",
    "                widgets.VBox([widgets.Label(value=\"Question:\"), text_area_widgets[question_field]], layout=widgets.Layout(width='75%')),\n",
    "                widgets.VBox([widgets.Label(value=\"Answer:\"), text_area_widgets[answer_field]], layout=widgets.Layout(width='15%')),\n",
    "                widgets.VBox([widgets.Label(value=\"Answer Ordinal:\"), text_area_widgets[ordinal_field]], layout=widgets.Layout(width='10%'))\n",
    "            ], layout=hbox_layout)\n",
    "        ])\n",
    "    else:  # For Scenario and Game Description\n",
    "        field = question_type\n",
    "        edit_box = widgets.VBox([\n",
    "            widgets.Label(value=f\"Edit {field}\"),\n",
    "            text_area_widgets[field]\n",
    "        ], layout=hbox_layout)\n",
    "\n",
    "    # Combine back button, edit box, and navigation buttons into one vertical box\n",
    "    display(widgets.VBox([back_button, edit_box, navigation_box]))\n",
    "\n",
    "# Function to determine the question type based on the index of the DataFrame\n",
    "def get_question_type(index):\n",
    "    # Assuming the question type is identifiable by a keyword in the column names\n",
    "    for col in df.columns:\n",
    "        if 'Question' in col and not df.at[index, col] == \"\":\n",
    "            return col.replace(' Question', '')  # Returns 'EC', 'ToM', 'JP', etc.\n",
    "    return None  # If no question type is found\n",
    "\n",
    "# Adjust the next and previous functions\n",
    "def go_next(b):\n",
    "    global current_index\n",
    "    update_record_from_widgets(current_index)\n",
    "    if current_index < len(df) - 1:\n",
    "        current_index += 1\n",
    "        load_record_to_widgets(current_index)\n",
    "        question_type = \"EC\"  # get the current question type\n",
    "        display_edit_view(question_type)\n",
    "\n",
    "def go_previous(b):\n",
    "    global current_index\n",
    "    update_record_from_widgets(current_index)\n",
    "    if current_index > 0:\n",
    "        current_index -= 1\n",
    "        load_record_to_widgets(current_index)\n",
    "        question_type = \"EC\" # get the current question type\n",
    "        display_edit_view(question_type)\n",
    "\n",
    "def display_main_view(b=None):\n",
    "    clear_output(wait=True)\n",
    "    load_record_to_widgets(current_index)\n",
    "    display(navigation_box, widgets.VBox(buttons))\n",
    "\n",
    "# Setup navigation buttons\n",
    "next_button = widgets.Button(description=\"Next\")\n",
    "previous_button = widgets.Button(description=\"Previous\")\n",
    "back_button = widgets.Button(description=\"Back to Overview\")\n",
    "next_button.on_click(go_next)\n",
    "previous_button.on_click(go_previous)\n",
    "back_button.on_click(display_main_view)\n",
    "navigation_box = widgets.HBox([previous_button, next_button])\n",
    "\n",
    "# Generate buttons\n",
    "buttons = [\n",
    "    widgets.Button(description=\"Edit Scenario\"),\n",
    "    widgets.Button(description=\"Edit Game Description\"),\n",
    "    *[\n",
    "        widgets.Button(description=f\"Edit {qt} Q&A\") for qt in [\"EC\", \"TOM\", \"JP\"]  # Assuming these are your question types\n",
    "    ]\n",
    "]\n",
    "\n",
    "buttons[0].on_click(lambda b: display_edit_view(field=\"Scenario\"))\n",
    "buttons[1].on_click(lambda b: display_edit_view(field=\"Game Description\"))\n",
    "for i, qt in enumerate([\"EC\", \"TOM\", \"JP\"], start=2):\n",
    "    buttons[i].on_click(lambda b, qtype=qt: display_edit_view(question_type=qtype))\n",
    "\n",
    "# Initial display\n",
    "load_record_to_widgets(current_index)\n",
    "question_type = get_question_type(current_index)\n",
    "display_edit_view(question_type)\n",
    "    "
   ]
  },
  {
   "cell_type": "code",
   "execution_count": null,
   "metadata": {},
   "outputs": [],
   "source": []
  },
  {
   "cell_type": "code",
   "execution_count": 18,
   "metadata": {},
   "outputs": [],
   "source": [
    "df.to_csv('single_turn_trials_march_21_ectom_updated.csv', index=False)"
   ]
  },
  {
   "cell_type": "code",
   "execution_count": null,
   "metadata": {},
   "outputs": [],
   "source": []
  }
 ],
 "metadata": {
  "kernelspec": {
   "display_name": "llm_coordination",
   "language": "python",
   "name": "python3"
  },
  "language_info": {
   "codemirror_mode": {
    "name": "ipython",
    "version": 3
   },
   "file_extension": ".py",
   "mimetype": "text/x-python",
   "name": "python",
   "nbconvert_exporter": "python",
   "pygments_lexer": "ipython3",
   "version": "3.9.18"
  }
 },
 "nbformat": 4,
 "nbformat_minor": 2
}
