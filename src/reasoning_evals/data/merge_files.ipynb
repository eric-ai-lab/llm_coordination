{
 "cells": [
  {
   "cell_type": "code",
   "execution_count": 1,
   "metadata": {},
   "outputs": [],
   "source": [
    "import pandas as pd \n",
    "\n",
    "overcooked = pd.read_csv('OvercookedFixedHeadings.csv')\n",
    "overcooked['Game'] = 'Overcooked'\n",
    "hanabi = pd.read_csv('HanabiFixedHeadings.csv')\n",
    "hanabi['Game'] = 'Hanabi'\n",
    "collabgames = pd.read_csv('CollabGamesFixedHeadings.csv')\n",
    "collabgames['Game'] = 'CollabGames'"
   ]
  },
  {
   "cell_type": "code",
   "execution_count": 6,
   "metadata": {},
   "outputs": [],
   "source": [
    "df = pd.concat([overcooked, hanabi, collabgames], ignore_index=True)"
   ]
  },
  {
   "cell_type": "code",
   "execution_count": 7,
   "metadata": {},
   "outputs": [],
   "source": [
    "df.to_csv('single_turn_eval.csv', index=False)   "
   ]
  },
  {
   "cell_type": "code",
   "execution_count": 9,
   "metadata": {},
   "outputs": [],
   "source": [
    "df = pd.read_csv('single_turn_eval.csv')"
   ]
  },
  {
   "cell_type": "code",
   "execution_count": 12,
   "metadata": {},
   "outputs": [
    {
     "data": {
      "text/plain": [
       "\"It is currently My (Alice) turn. Current Stacks: Red - Red 0, Yellow - Yellow 0, Green - Green 0, White - White 0, Blue - Blue 0\\nMy cards based on my knowledge:  \\nCard 0 could be: [Red, Yellow, Green, White, Blue] [1, 2, 3, 4, 5]\\nCard 1 could be: [Red, Yellow, Green, White, Blue] [1, 2, 3, 4, 5]\\nCard 2 could be: [Red, Yellow, Green, White, Blue] [1, 2, 3, 4, 5]\\nCard 3 could be: [Red, Yellow, Green, White, Blue] [1, 2, 3, 4, 5]\\nCard 4 could be: [Red, Yellow, Green, White, Blue] [1, 2, 3, 4, 5]\\nI can see Bob's Cards are:  \\n[Card 0: Red 3]  \\n[Card 1: White 1]  \\n[Card 2: Green 3]  \\n[Card 3: White 4]  \\n[Card 4: Blue 4]  \\nBob's Knowledge about his cards:  \\nBob believes his Card 0 could be:  [Red, Yellow, Green, White, Blue] [1, 2, 3, 4, 5]\\nBob believes his Card 1 could be:  [Red, Yellow, Green, White, Blue] [1, 2, 3, 4, 5]\\nBob believes his Card 2 could be:  [Red, Yellow, Green, White, Blue] [1, 2, 3, 4, 5]\\nBob believes his Card 3 could be:  [Red, Yellow, Green, White, Blue] [1, 2, 3, 4, 5]\\nBob believes his Card 4 could be:  [Red, Yellow, Green, White, Blue] [1, 2, 3, 4, 5]\\nRemaining Reveal Tokens: 8 \\nRemaining Lives: 3  \\nDeck Size: 40 \\nThe discard pile is: []\\nMy Action History: []\\nThe next playable cards for each stack are:  \\nOnly Red 1 can be played on Red Stack  \\nOnly Yellow 1 can be played on Yellow Stack  \\nOnly Green 1 can be played on Green Stack  \\nOnly White 1 can be played on White Stack  \\nOnly Blue 1 can be played on Blue Stack\\n\\n\\nWhat information about his cards should I reveal to my partner?\\n\\nA. Reveal his Red color cards.\\nB. Reveal his Yellow color cards.\\nC. Reveal his White color cards.\\nD. Reveal his Green color cards.\\nE. Reveal his Blue color cards.\\nF. Reveal his White color cards.\\nG. Reveal his Rank 1 cards.\\nH. Reveal his Rank 2 cards.\\nI. Reveal his Rank 3 cards.\\nJ. Reveal his Rank 4 cards.\\nK. Reveal his Rank 5 cards\\n\""
      ]
     },
     "execution_count": 12,
     "metadata": {},
     "output_type": "execute_result"
    }
   ],
   "source": [
    "df[df['Game'] == 'Hanabi']['TOM Question'].iloc[0]"
   ]
  },
  {
   "cell_type": "code",
   "execution_count": null,
   "metadata": {},
   "outputs": [],
   "source": []
  }
 ],
 "metadata": {
  "kernelspec": {
   "display_name": "llm_inference",
   "language": "python",
   "name": "python3"
  },
  "language_info": {
   "codemirror_mode": {
    "name": "ipython",
    "version": 3
   },
   "file_extension": ".py",
   "mimetype": "text/x-python",
   "name": "python",
   "nbconvert_exporter": "python",
   "pygments_lexer": "ipython3",
   "version": "3.9.18"
  }
 },
 "nbformat": 4,
 "nbformat_minor": 2
}
